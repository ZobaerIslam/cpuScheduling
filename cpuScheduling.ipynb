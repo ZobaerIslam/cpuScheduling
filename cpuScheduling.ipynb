{
 "cells": [
  {
   "cell_type": "markdown",
   "metadata": {},
   "source": [
    "# CpuSchduling_FCFS method\n",
    "\n",
    "## Step1: \n",
    "    # Import Pandas Laibrary alias pd\n",
    "\n",
    "## Step2: \n",
    "    # Calculate FCFS\n",
    "    # Create Data Frame by Pandas\n",
    "    # Show Output\n",
    "\n",
    "## Step3:\n",
    "    # Read csv file \n",
    "    # Initialize to Data Frame from csv\n",
    "    # Pass Data frame to fcfs Function"
   ]
  },
  {
   "cell_type": "markdown",
   "metadata": {},
   "source": [
    "### Project start.."
   ]
  },
  {
   "cell_type": "markdown",
   "metadata": {},
   "source": [
    "## Step1:"
   ]
  },
  {
   "cell_type": "code",
   "execution_count": 2,
   "metadata": {},
   "outputs": [],
   "source": [
    "# Import pandas alias pd\n",
    "import pandas as pd"
   ]
  },
  {
   "cell_type": "markdown",
   "metadata": {},
   "source": [
    "## Step2:"
   ]
  },
  {
   "cell_type": "code",
   "execution_count": 5,
   "metadata": {},
   "outputs": [],
   "source": [
    "# define fcfs() function with one parameter\n",
    "def fcfs(df) :\n",
    "    # initialize two List with empty list\n",
    "    start = []\n",
    "    end = []\n",
    "    \n",
    "    # Initialize two variable with 0 value\n",
    "    s = 0\n",
    "    e = 0\n",
    "    \n",
    "    # Combined two column of df and initialize as list\n",
    "    z_list = list(zip(df['Process'], df['Burst time']))\n",
    "    \n",
    "    # Iterating over Zip_List\n",
    "    for i in z_list:\n",
    "        # Calculating start and end time of process \n",
    "        s = e\n",
    "        e = s + i[1]\n",
    "        \n",
    "        # Append 'start time value' and 'end time value' of process\n",
    "        start.append(s)\n",
    "        end.append(e)\n",
    "    \n",
    "    # Print Header\n",
    "    print(\"FCFS method of CPU Schduling\".center(50, '*'))\n",
    "    \n",
    "    # Create Data Frame of Process, StartTime, and EndTime\n",
    "    df_gc = pd.DataFrame({'Process': df['Process'], 'StartTime': start, 'EndTime': end})\n",
    "    print()\n",
    "    # Print DataFrame(df_gc) without Index(hide index) \n",
    "    print(df_gc.to_string(index = False))\n",
    "    \n",
    "    # Calculate Waiting time\n",
    "    df_wt = pd.DataFrame({'Process': df['Process'], 'WaitingTime': start})\n",
    "    print('\\n')\n",
    "    # Print DataFrame(df_wt) without Index(hide index)\n",
    "    print(df_wt.to_string(index = False))\n",
    "    \n",
    "    # Calculate Average Waiting Time\n",
    "    awt = sum(df_wt['WaitingTime']) / len([df_wt['WaitingTime']])\n",
    "    print()\n",
    "    print(\"Average Waiting Time:\", awt)\n",
    "    \n",
    "    # Calculate Turn-around Time\n",
    "    df_tat = pd.DataFrame({'Process': df['Process'], 'Turn-aroundTime': end})\n",
    "    print('\\n')\n",
    "    # Print DataFrame(df_tat) without index(hide index)\n",
    "    print(df_tat.to_string(index = False))\n",
    "    \n",
    "    # Calculate Average Turn-around Time\n",
    "    atat = sum(df_tat['Turn-aroundTime']) / len(df_tat['Turn-aroundTime'])\n",
    "    print()\n",
    "    print(\"Average Turn-around Time:\", atat)"
   ]
  },
  {
   "cell_type": "markdown",
   "metadata": {},
   "source": [
    "## Step3:"
   ]
  },
  {
   "cell_type": "code",
   "execution_count": 6,
   "metadata": {},
   "outputs": [
    {
     "name": "stdout",
     "output_type": "stream",
     "text": [
      "***********FCFS method of CPU Schduling***********\n",
      "\n",
      "Process  StartTime  EndTime\n",
      "     p1          0       30\n",
      "     p2         30       35\n",
      "     p3         35       50\n",
      "     p4         50       59\n",
      "\n",
      "\n",
      "Process  WaitingTime\n",
      "     p1            0\n",
      "     p2           30\n",
      "     p3           35\n",
      "     p4           50\n",
      "\n",
      "Average Waiting Time: 115.0\n",
      "\n",
      "\n",
      "Process  Turn-aroundTime\n",
      "     p1               30\n",
      "     p2               35\n",
      "     p3               50\n",
      "     p4               59\n",
      "\n",
      "Average Turn-around Time: 43.5\n"
     ]
    }
   ],
   "source": [
    "# Connect to file \n",
    "filename = 'fcfsData.csv'\n",
    "\n",
    "# Convert to DataFrame from csv file\n",
    "df = pd.read_csv(filename)\n",
    "\n",
    "# Call fcfs Function with pass the DataFrame\n",
    "fcfs(df)"
   ]
  },
  {
   "cell_type": "code",
   "execution_count": null,
   "metadata": {},
   "outputs": [],
   "source": []
  },
  {
   "cell_type": "code",
   "execution_count": null,
   "metadata": {},
   "outputs": [],
   "source": []
  }
 ],
 "metadata": {
  "kernelspec": {
   "display_name": "Python 3",
   "language": "python",
   "name": "python3"
  },
  "language_info": {
   "codemirror_mode": {
    "name": "ipython",
    "version": 3
   },
   "file_extension": ".py",
   "mimetype": "text/x-python",
   "name": "python",
   "nbconvert_exporter": "python",
   "pygments_lexer": "ipython3",
   "version": "3.7.3"
  }
 },
 "nbformat": 4,
 "nbformat_minor": 2
}
